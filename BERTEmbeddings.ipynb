{
  "nbformat": 4,
  "nbformat_minor": 0,
  "metadata": {
    "colab": {
      "provenance": [],
      "authorship_tag": "ABX9TyNWwe7kzb93FPA9X8qQLuI+",
      "include_colab_link": true
    },
    "kernelspec": {
      "name": "python3",
      "display_name": "Python 3"
    },
    "language_info": {
      "name": "python"
    },
    "accelerator": "TPU",
    "gpuClass": "standard"
  },
  "cells": [
    {
      "cell_type": "markdown",
      "metadata": {
        "id": "view-in-github",
        "colab_type": "text"
      },
      "source": [
        "<a href=\"https://colab.research.google.com/github/mounikamarreddy/BERTFinetuning-NLPTasks/blob/main/BERTEmbeddings.ipynb\" target=\"_parent\"><img src=\"https://colab.research.google.com/assets/colab-badge.svg\" alt=\"Open In Colab\"/></a>"
      ]
    },
    {
      "cell_type": "code",
      "execution_count": 1,
      "metadata": {
        "colab": {
          "base_uri": "https://localhost:8080/"
        },
        "id": "v9zewKirpE6k",
        "outputId": "14fe7507-cb0e-464a-a121-22a06e8b7163"
      },
      "outputs": [
        {
          "output_type": "stream",
          "name": "stdout",
          "text": [
            "Looking in indexes: https://pypi.org/simple, https://us-python.pkg.dev/colab-wheels/public/simple/\n",
            "Collecting transformers\n",
            "  Downloading transformers-4.21.3-py3-none-any.whl (4.7 MB)\n",
            "\u001b[K     |████████████████████████████████| 4.7 MB 4.8 MB/s \n",
            "\u001b[?25hRequirement already satisfied: packaging>=20.0 in /usr/local/lib/python3.7/dist-packages (from transformers) (21.3)\n",
            "Collecting tokenizers!=0.11.3,<0.13,>=0.11.1\n",
            "  Downloading tokenizers-0.12.1-cp37-cp37m-manylinux_2_12_x86_64.manylinux2010_x86_64.whl (6.6 MB)\n",
            "\u001b[K     |████████████████████████████████| 6.6 MB 34.5 MB/s \n",
            "\u001b[?25hCollecting huggingface-hub<1.0,>=0.1.0\n",
            "  Downloading huggingface_hub-0.9.1-py3-none-any.whl (120 kB)\n",
            "\u001b[K     |████████████████████████████████| 120 kB 58.6 MB/s \n",
            "\u001b[?25hRequirement already satisfied: tqdm>=4.27 in /usr/local/lib/python3.7/dist-packages (from transformers) (4.64.0)\n",
            "Requirement already satisfied: filelock in /usr/local/lib/python3.7/dist-packages (from transformers) (3.8.0)\n",
            "Requirement already satisfied: importlib-metadata in /usr/local/lib/python3.7/dist-packages (from transformers) (4.12.0)\n",
            "Requirement already satisfied: pyyaml>=5.1 in /usr/local/lib/python3.7/dist-packages (from transformers) (6.0)\n",
            "Requirement already satisfied: requests in /usr/local/lib/python3.7/dist-packages (from transformers) (2.23.0)\n",
            "Requirement already satisfied: numpy>=1.17 in /usr/local/lib/python3.7/dist-packages (from transformers) (1.21.6)\n",
            "Requirement already satisfied: regex!=2019.12.17 in /usr/local/lib/python3.7/dist-packages (from transformers) (2022.6.2)\n",
            "Requirement already satisfied: typing-extensions>=3.7.4.3 in /usr/local/lib/python3.7/dist-packages (from huggingface-hub<1.0,>=0.1.0->transformers) (4.1.1)\n",
            "Requirement already satisfied: pyparsing!=3.0.5,>=2.0.2 in /usr/local/lib/python3.7/dist-packages (from packaging>=20.0->transformers) (3.0.9)\n",
            "Requirement already satisfied: zipp>=0.5 in /usr/local/lib/python3.7/dist-packages (from importlib-metadata->transformers) (3.8.1)\n",
            "Requirement already satisfied: urllib3!=1.25.0,!=1.25.1,<1.26,>=1.21.1 in /usr/local/lib/python3.7/dist-packages (from requests->transformers) (1.24.3)\n",
            "Requirement already satisfied: chardet<4,>=3.0.2 in /usr/local/lib/python3.7/dist-packages (from requests->transformers) (3.0.4)\n",
            "Requirement already satisfied: certifi>=2017.4.17 in /usr/local/lib/python3.7/dist-packages (from requests->transformers) (2022.6.15)\n",
            "Requirement already satisfied: idna<3,>=2.5 in /usr/local/lib/python3.7/dist-packages (from requests->transformers) (2.10)\n",
            "Installing collected packages: tokenizers, huggingface-hub, transformers\n",
            "Looking in indexes: https://pypi.org/simple, https://us-python.pkg.dev/colab-wheels/public/simple/\n",
            "Requirement already satisfied: tensorflow in /usr/local/lib/python3.7/dist-packages (2.8.2+zzzcolab20220719082949)\n",
            "Requirement already satisfied: opt-einsum>=2.3.2 in /usr/local/lib/python3.7/dist-packages (from tensorflow) (3.3.0)\n",
            "Requirement already satisfied: keras<2.9,>=2.8.0rc0 in /usr/local/lib/python3.7/dist-packages (from tensorflow) (2.8.0)\n",
            "Requirement already satisfied: numpy>=1.20 in /usr/local/lib/python3.7/dist-packages (from tensorflow) (1.21.6)\n",
            "Requirement already satisfied: keras-preprocessing>=1.1.1 in /usr/local/lib/python3.7/dist-packages (from tensorflow) (1.1.2)\n",
            "Requirement already satisfied: typing-extensions>=3.6.6 in /usr/local/lib/python3.7/dist-packages (from tensorflow) (4.1.1)\n",
            "Requirement already satisfied: google-pasta>=0.1.1 in /usr/local/lib/python3.7/dist-packages (from tensorflow) (0.2.0)\n",
            "Requirement already satisfied: protobuf<3.20,>=3.9.2 in /usr/local/lib/python3.7/dist-packages (from tensorflow) (3.17.3)\n",
            "Requirement already satisfied: h5py>=2.9.0 in /usr/local/lib/python3.7/dist-packages (from tensorflow) (3.1.0)\n",
            "Requirement already satisfied: six>=1.12.0 in /usr/local/lib/python3.7/dist-packages (from tensorflow) (1.15.0)\n",
            "Requirement already satisfied: tensorboard<2.9,>=2.8 in /usr/local/lib/python3.7/dist-packages (from tensorflow) (2.8.0)\n",
            "Requirement already satisfied: setuptools in /usr/local/lib/python3.7/dist-packages (from tensorflow) (57.4.0)\n",
            "Requirement already satisfied: grpcio<2.0,>=1.24.3 in /usr/local/lib/python3.7/dist-packages (from tensorflow) (1.47.0)\n",
            "Requirement already satisfied: absl-py>=0.4.0 in /usr/local/lib/python3.7/dist-packages (from tensorflow) (1.2.0)\n",
            "Requirement already satisfied: flatbuffers>=1.12 in /usr/local/lib/python3.7/dist-packages (from tensorflow) (2.0.7)\n",
            "Requirement already satisfied: libclang>=9.0.1 in /usr/local/lib/python3.7/dist-packages (from tensorflow) (14.0.6)\n",
            "Requirement already satisfied: termcolor>=1.1.0 in /usr/local/lib/python3.7/dist-packages (from tensorflow) (1.1.0)\n",
            "Requirement already satisfied: tensorflow-io-gcs-filesystem>=0.23.1 in /usr/local/lib/python3.7/dist-packages (from tensorflow) (0.26.0)\n",
            "Requirement already satisfied: wrapt>=1.11.0 in /usr/local/lib/python3.7/dist-packages (from tensorflow) (1.14.1)\n",
            "Requirement already satisfied: gast>=0.2.1 in /usr/local/lib/python3.7/dist-packages (from tensorflow) (0.5.3)\n",
            "Requirement already satisfied: astunparse>=1.6.0 in /usr/local/lib/python3.7/dist-packages (from tensorflow) (1.6.3)\n",
            "Requirement already satisfied: tensorflow-estimator<2.9,>=2.8 in /usr/local/lib/python3.7/dist-packages (from tensorflow) (2.8.0)\n",
            "Requirement already satisfied: wheel<1.0,>=0.23.0 in /usr/local/lib/python3.7/dist-packages (from astunparse>=1.6.0->tensorflow) (0.37.1)\n",
            "Requirement already satisfied: cached-property in /usr/local/lib/python3.7/dist-packages (from h5py>=2.9.0->tensorflow) (1.5.2)\n",
            "Requirement already satisfied: google-auth-oauthlib<0.5,>=0.4.1 in /usr/local/lib/python3.7/dist-packages (from tensorboard<2.9,>=2.8->tensorflow) (0.4.6)\n",
            "Requirement already satisfied: google-auth<3,>=1.6.3 in /usr/local/lib/python3.7/dist-packages (from tensorboard<2.9,>=2.8->tensorflow) (1.35.0)\n",
            "Requirement already satisfied: werkzeug>=0.11.15 in /usr/local/lib/python3.7/dist-packages (from tensorboard<2.9,>=2.8->tensorflow) (1.0.1)\n",
            "Requirement already satisfied: tensorboard-plugin-wit>=1.6.0 in /usr/local/lib/python3.7/dist-packages (from tensorboard<2.9,>=2.8->tensorflow) (1.8.1)\n",
            "Requirement already satisfied: requests<3,>=2.21.0 in /usr/local/lib/python3.7/dist-packages (from tensorboard<2.9,>=2.8->tensorflow) (2.23.0)\n",
            "Requirement already satisfied: markdown>=2.6.8 in /usr/local/lib/python3.7/dist-packages (from tensorboard<2.9,>=2.8->tensorflow) (3.4.1)\n",
            "Requirement already satisfied: tensorboard-data-server<0.7.0,>=0.6.0 in /usr/local/lib/python3.7/dist-packages (from tensorboard<2.9,>=2.8->tensorflow) (0.6.1)\n",
            "Requirement already satisfied: rsa<5,>=3.1.4 in /usr/local/lib/python3.7/dist-packages (from google-auth<3,>=1.6.3->tensorboard<2.9,>=2.8->tensorflow) (4.9)\n",
            "Requirement already satisfied: pyasn1-modules>=0.2.1 in /usr/local/lib/python3.7/dist-packages (from google-auth<3,>=1.6.3->tensorboard<2.9,>=2.8->tensorflow) (0.2.8)\n",
            "Requirement already satisfied: cachetools<5.0,>=2.0.0 in /usr/local/lib/python3.7/dist-packages (from google-auth<3,>=1.6.3->tensorboard<2.9,>=2.8->tensorflow) (4.2.4)\n",
            "Requirement already satisfied: requests-oauthlib>=0.7.0 in /usr/local/lib/python3.7/dist-packages (from google-auth-oauthlib<0.5,>=0.4.1->tensorboard<2.9,>=2.8->tensorflow) (1.3.1)\n",
            "Requirement already satisfied: importlib-metadata>=4.4 in /usr/local/lib/python3.7/dist-packages (from markdown>=2.6.8->tensorboard<2.9,>=2.8->tensorflow) (4.12.0)\n",
            "Requirement already satisfied: zipp>=0.5 in /usr/local/lib/python3.7/dist-packages (from importlib-metadata>=4.4->markdown>=2.6.8->tensorboard<2.9,>=2.8->tensorflow) (3.8.1)\n",
            "Requirement already satisfied: pyasn1<0.5.0,>=0.4.6 in /usr/local/lib/python3.7/dist-packages (from pyasn1-modules>=0.2.1->google-auth<3,>=1.6.3->tensorboard<2.9,>=2.8->tensorflow) (0.4.8)\n",
            "Requirement already satisfied: chardet<4,>=3.0.2 in /usr/local/lib/python3.7/dist-packages (from requests<3,>=2.21.0->tensorboard<2.9,>=2.8->tensorflow) (3.0.4)\n",
            "Requirement already satisfied: certifi>=2017.4.17 in /usr/local/lib/python3.7/dist-packages (from requests<3,>=2.21.0->tensorboard<2.9,>=2.8->tensorflow) (2022.6.15)\n",
            "Requirement already satisfied: urllib3!=1.25.0,!=1.25.1,<1.26,>=1.21.1 in /usr/local/lib/python3.7/dist-packages (from requests<3,>=2.21.0->tensorboard<2.9,>=2.8->tensorflow) (1.24.3)\n",
            "Requirement already satisfied: idna<3,>=2.5 in /usr/local/lib/python3.7/dist-packages (from requests<3,>=2.21.0->tensorboard<2.9,>=2.8->tensorflow) (2.10)\n",
            "Requirement already satisfied: oauthlib>=3.0.0 in /usr/local/lib/python3.7/dist-packages (from requests-oauthlib>=0.7.0->google-auth-oauthlib<0.5,>=0.4.1->tensorboard<2.9,>=2.8->tensorflow) (3.2.0)\n"
          ]
        }
      ],
      "source": [
        "!pip install transformers\n",
        "!pip install tensorflow"
      ]
    },
    {
      "cell_type": "code",
      "source": [
        "import torch"
      ],
      "metadata": {
        "id": "OuiDkgScpMI8"
      },
      "execution_count": 2,
      "outputs": []
    },
    {
      "cell_type": "code",
      "source": [
        "from transformers import BertModel, BertTokenizer"
      ],
      "metadata": {
        "id": "QDpyLDjWpXuO"
      },
      "execution_count": 5,
      "outputs": []
    },
    {
      "cell_type": "code",
      "source": [
        "model_name = 'bert-base-uncased'\n",
        "tokenizer = BertTokenizer.from_pretrained(model_name)\n",
        "model = BertModel.from_pretrained(model_name, output_hidden_states = True,output_attentions=True)\n",
        "input_text = \"I am learning transformers with brother help\""
      ],
      "metadata": {
        "id": "Gf8ftrxxpb7i",
        "outputId": "a5980847-e23c-43a4-e7ac-bed326a4d303",
        "colab": {
          "base_uri": "https://localhost:8080/"
        }
      },
      "execution_count": 43,
      "outputs": [
        {
          "output_type": "stream",
          "name": "stderr",
          "text": [
            "Some weights of the model checkpoint at bert-base-uncased were not used when initializing BertModel: ['cls.seq_relationship.bias', 'cls.predictions.transform.LayerNorm.bias', 'cls.predictions.transform.LayerNorm.weight', 'cls.seq_relationship.weight', 'cls.predictions.transform.dense.weight', 'cls.predictions.transform.dense.bias', 'cls.predictions.decoder.weight', 'cls.predictions.bias']\n",
            "- This IS expected if you are initializing BertModel from the checkpoint of a model trained on another task or with another architecture (e.g. initializing a BertForSequenceClassification model from a BertForPreTraining model).\n",
            "- This IS NOT expected if you are initializing BertModel from the checkpoint of a model that you expect to be exactly identical (initializing a BertForSequenceClassification model from a BertForSequenceClassification model).\n"
          ]
        }
      ]
    },
    {
      "cell_type": "code",
      "source": [
        "# tokenise the text\n",
        "tokenized_texts = [tokenizer.tokenize(input_text)]\n",
        "print (\"Tokenize the sentence:\")\n",
        "print (tokenized_texts[0])"
      ],
      "metadata": {
        "id": "IxJkCfOupyW-",
        "outputId": "f7986fc0-280b-4625-b9d0-2bae08a7d94b",
        "colab": {
          "base_uri": "https://localhost:8080/"
        }
      },
      "execution_count": 44,
      "outputs": [
        {
          "output_type": "stream",
          "name": "stdout",
          "text": [
            "Tokenize the sentence:\n",
            "['i', 'am', 'learning', 'transformers', 'with', 'brother', 'help']\n"
          ]
        }
      ]
    },
    {
      "cell_type": "code",
      "source": [
        "# tokenize the sentence and generate input_id's\n",
        "input_ids = tokenizer.encode(input_text, add_special_tokens=True)"
      ],
      "metadata": {
        "id": "8S2kM-SEqG-P"
      },
      "execution_count": 45,
      "outputs": []
    },
    {
      "cell_type": "code",
      "source": [
        "#CLS token at start and SEP token at end are added\n",
        "input_ids"
      ],
      "metadata": {
        "id": "aVo3Ty6rqYII",
        "outputId": "9eb8b299-3125-4691-8ffe-de26872308f7",
        "colab": {
          "base_uri": "https://localhost:8080/"
        }
      },
      "execution_count": 46,
      "outputs": [
        {
          "output_type": "execute_result",
          "data": {
            "text/plain": [
              "[101, 1045, 2572, 4083, 19081, 2007, 2567, 2393, 102]"
            ]
          },
          "metadata": {},
          "execution_count": 46
        }
      ]
    },
    {
      "cell_type": "code",
      "source": [
        "input_ids = torch.tensor([input_ids])"
      ],
      "metadata": {
        "id": "1QGi2IIArbeL"
      },
      "execution_count": 47,
      "outputs": []
    },
    {
      "cell_type": "code",
      "source": [
        "with torch.no_grad():\n",
        "    outputs = model(input_ids)\n",
        "    attentions = outputs.attentions"
      ],
      "metadata": {
        "id": "sWOf2zZIuahU"
      },
      "execution_count": 48,
      "outputs": []
    },
    {
      "cell_type": "code",
      "source": [
        "# the length of outputs represents last_hidden_state, pooler_output, hidden_states, attentions\n",
        "# last_hidden_state (batch_size, sequence_length, hidden_size) : last hidden state which is outputted from the last BertLayer\n",
        "# pooler_output (batch_size, hidden_size) : output of the Pooler layer\n",
        "# hidden_states (batch_size, sequence_length, hidden_size): hidden-states of the model at the output of each BertLayer plus the initial embedding\n",
        "# attentions (batch_size, num_heads, sequence_length, sequence_length): one for each BertLayer. Attentions weights after the attention SoftMax\n",
        "len(outputs)"
      ],
      "metadata": {
        "id": "unPOTXx6us49",
        "outputId": "e6b9ae7b-ecaa-4fd2-9894-71524e4976e4",
        "colab": {
          "base_uri": "https://localhost:8080/"
        }
      },
      "execution_count": 49,
      "outputs": [
        {
          "output_type": "execute_result",
          "data": {
            "text/plain": [
              "4"
            ]
          },
          "metadata": {},
          "execution_count": 49
        }
      ]
    },
    {
      "cell_type": "code",
      "source": [
        "print(outputs[0].shape)"
      ],
      "metadata": {
        "id": "bYOHS8fD2vxM",
        "outputId": "f4b62ae4-5681-44f2-bc10-60547f82d321",
        "colab": {
          "base_uri": "https://localhost:8080/"
        }
      },
      "execution_count": 55,
      "outputs": [
        {
          "output_type": "stream",
          "name": "stdout",
          "text": [
            "torch.Size([1, 9, 768])\n"
          ]
        }
      ]
    },
    {
      "cell_type": "code",
      "source": [
        "len(attentions)"
      ],
      "metadata": {
        "id": "jXSG6p9ez94O",
        "outputId": "761051a9-68d1-4a0d-9dca-a45d12ce69d1",
        "colab": {
          "base_uri": "https://localhost:8080/"
        }
      },
      "execution_count": 51,
      "outputs": [
        {
          "output_type": "execute_result",
          "data": {
            "text/plain": [
              "12"
            ]
          },
          "metadata": {},
          "execution_count": 51
        }
      ]
    },
    {
      "cell_type": "code",
      "source": [
        "hidden_states = outputs[2]"
      ],
      "metadata": {
        "id": "AsUb5-iDunef"
      },
      "execution_count": 29,
      "outputs": []
    },
    {
      "cell_type": "code",
      "source": [
        "len(hidden_states)"
      ],
      "metadata": {
        "id": "7SK0YHm_yD2z",
        "outputId": "3c3f1d96-ec43-41d1-b74f-e4b4a780f2ef",
        "colab": {
          "base_uri": "https://localhost:8080/"
        }
      },
      "execution_count": 40,
      "outputs": [
        {
          "output_type": "execute_result",
          "data": {
            "text/plain": [
              "13"
            ]
          },
          "metadata": {},
          "execution_count": 40
        }
      ]
    },
    {
      "cell_type": "code",
      "source": [
        "# layer_0 is for initial embeddings, 12 layers are for 12 hidden layer representations\n",
        "layer_0 = hidden_states[0]"
      ],
      "metadata": {
        "id": "oCYOUOXsrSso"
      },
      "execution_count": 32,
      "outputs": []
    },
    {
      "cell_type": "code",
      "source": [
        "# batch_size = 1, tokens = 9, embedding dimension = 768\n",
        "layer_0.shape"
      ],
      "metadata": {
        "id": "JbLY_X6qrjST",
        "outputId": "9147647c-634f-4e1f-a66e-40a34a1b807a",
        "colab": {
          "base_uri": "https://localhost:8080/"
        }
      },
      "execution_count": 33,
      "outputs": [
        {
          "output_type": "execute_result",
          "data": {
            "text/plain": [
              "torch.Size([1, 9, 768])"
            ]
          },
          "metadata": {},
          "execution_count": 33
        }
      ]
    },
    {
      "cell_type": "code",
      "source": [
        "layer_0"
      ],
      "metadata": {
        "id": "W6pcdOl_sJJe",
        "outputId": "fb3a9d67-45e5-4a58-b18f-cffab0f8b2ee",
        "colab": {
          "base_uri": "https://localhost:8080/"
        }
      },
      "execution_count": 34,
      "outputs": [
        {
          "output_type": "execute_result",
          "data": {
            "text/plain": [
              "tensor([[[ 1.6855e-01, -2.8577e-01, -3.2613e-01,  ..., -2.7571e-02,\n",
              "           3.8253e-02,  1.6400e-01],\n",
              "         [-3.4027e-04,  5.3974e-01, -2.8805e-01,  ...,  7.5731e-01,\n",
              "           8.9008e-01,  1.6575e-01],\n",
              "         [-6.3496e-01,  1.9748e-01,  2.5116e-01,  ..., -4.0819e-02,\n",
              "           1.3468e+00, -6.9357e-01],\n",
              "         ...,\n",
              "         [ 2.7237e-01, -8.8593e-01, -7.5636e-01,  ..., -8.7015e-01,\n",
              "          -2.1279e-02,  5.4287e-01],\n",
              "         [-8.1437e-01,  3.1857e-03,  1.0250e-01,  ...,  2.7126e-01,\n",
              "           2.8317e-01,  5.3041e-01],\n",
              "         [-2.3061e-01, -2.4164e-01, -4.0893e-02,  ..., -2.8555e-01,\n",
              "           2.4370e-01, -7.0539e-02]]])"
            ]
          },
          "metadata": {},
          "execution_count": 34
        }
      ]
    },
    {
      "cell_type": "code",
      "source": [
        "#bert layer_1 representations\n",
        "layer_1 = hidden_states[1]"
      ],
      "metadata": {
        "id": "d2qs_875vK6M"
      },
      "execution_count": 41,
      "outputs": []
    },
    {
      "cell_type": "code",
      "source": [
        "layer_1.shape"
      ],
      "metadata": {
        "id": "4chicY8qyeN-",
        "outputId": "56995a8e-6cbc-4ed2-8591-73bf9867366e",
        "colab": {
          "base_uri": "https://localhost:8080/"
        }
      },
      "execution_count": 42,
      "outputs": [
        {
          "output_type": "execute_result",
          "data": {
            "text/plain": [
              "torch.Size([1, 9, 768])"
            ]
          },
          "metadata": {},
          "execution_count": 42
        }
      ]
    },
    {
      "cell_type": "code",
      "source": [
        "# attention representations, index 0 represents layer 1 attentions and index 11 represents layer 12 attentions.\n",
        "layer_1_attention = attentions[0]"
      ],
      "metadata": {
        "id": "ZyJS_sXQygUR"
      },
      "execution_count": 52,
      "outputs": []
    },
    {
      "cell_type": "code",
      "source": [
        "layer_1_attention.shape"
      ],
      "metadata": {
        "id": "KhZfevRN0L-9",
        "outputId": "26e2deba-15e9-4c99-99d3-f4bb3768823c",
        "colab": {
          "base_uri": "https://localhost:8080/"
        }
      },
      "execution_count": 53,
      "outputs": [
        {
          "output_type": "execute_result",
          "data": {
            "text/plain": [
              "torch.Size([1, 12, 9, 9])"
            ]
          },
          "metadata": {},
          "execution_count": 53
        }
      ]
    },
    {
      "cell_type": "code",
      "source": [
        "layer_1_attention"
      ],
      "metadata": {
        "id": "tgr9Nms_0N4e",
        "outputId": "e0d42ff2-2f98-48ba-ea63-3eb63530df9b",
        "colab": {
          "base_uri": "https://localhost:8080/"
        }
      },
      "execution_count": 54,
      "outputs": [
        {
          "output_type": "execute_result",
          "data": {
            "text/plain": [
              "tensor([[[[7.2432e-02, 6.1376e-02, 5.1153e-02, 6.1012e-02, 6.2050e-02,\n",
              "           1.8046e-01, 8.6079e-02, 6.9843e-02, 3.5560e-01],\n",
              "          [1.9949e-01, 1.4013e-01, 7.6084e-02, 9.3578e-02, 1.7148e-01,\n",
              "           5.0118e-02, 1.0816e-01, 6.4796e-02, 9.6175e-02],\n",
              "          [6.3968e-02, 4.3015e-01, 4.2197e-02, 9.5562e-02, 1.1792e-01,\n",
              "           3.5626e-02, 5.5822e-02, 4.4204e-02, 1.1455e-01],\n",
              "          [8.1623e-02, 1.9603e-01, 6.7857e-02, 7.1092e-02, 1.7276e-01,\n",
              "           6.3544e-02, 1.4040e-01, 1.2922e-01, 7.7480e-02],\n",
              "          [4.0270e-02, 1.9172e-01, 1.0148e-01, 9.5134e-02, 1.3129e-01,\n",
              "           6.0334e-02, 6.7838e-02, 1.4467e-01, 1.6725e-01],\n",
              "          [1.8078e-01, 8.7074e-02, 7.0630e-02, 6.2005e-02, 9.5623e-02,\n",
              "           1.8117e-01, 7.8268e-02, 1.3857e-01, 1.0588e-01],\n",
              "          [8.6552e-02, 2.1255e-01, 9.9102e-02, 1.3601e-01, 1.8765e-01,\n",
              "           6.2388e-02, 5.9054e-02, 9.0893e-02, 6.5799e-02],\n",
              "          [1.6474e-01, 1.6625e-01, 1.1314e-01, 6.2576e-02, 1.0309e-01,\n",
              "           1.2417e-01, 6.4656e-02, 3.4597e-02, 1.6677e-01],\n",
              "          [1.2458e-01, 1.1424e-01, 4.7754e-02, 8.2260e-02, 8.0877e-02,\n",
              "           1.4932e-01, 9.4708e-02, 9.3866e-02, 2.1240e-01]],\n",
              "\n",
              "         [[6.5086e-01, 1.5233e-02, 3.7265e-03, 2.1993e-03, 6.1639e-03,\n",
              "           3.0279e-01, 6.1290e-03, 6.5523e-03, 6.3395e-03],\n",
              "          [4.5224e-03, 1.1718e-02, 6.2019e-02, 2.2120e-01, 1.9228e-01,\n",
              "           6.3925e-03, 3.7841e-01, 1.0503e-01, 1.8430e-02],\n",
              "          [4.2731e-02, 3.2170e-02, 4.1401e-02, 1.7479e-01, 3.5193e-01,\n",
              "           2.8999e-02, 8.8168e-02, 1.5049e-01, 8.9322e-02],\n",
              "          [1.6912e-02, 1.8407e-02, 1.0015e-01, 2.1383e-01, 3.5985e-01,\n",
              "           1.0801e-02, 9.2287e-02, 8.4792e-02, 1.0298e-01],\n",
              "          [4.1097e-02, 7.9917e-02, 4.9496e-02, 2.1963e-01, 2.0467e-01,\n",
              "           1.1693e-01, 1.5608e-01, 7.4415e-02, 5.7758e-02],\n",
              "          [1.1321e-02, 6.8077e-02, 1.0455e-01, 9.0495e-02, 1.3386e-01,\n",
              "           2.4097e-02, 2.1468e-01, 3.0687e-01, 4.6053e-02],\n",
              "          [8.7842e-03, 2.3490e-02, 1.2669e-01, 3.1268e-01, 2.2739e-01,\n",
              "           7.2833e-03, 1.1189e-01, 1.2100e-01, 6.0782e-02],\n",
              "          [7.4010e-03, 6.9905e-03, 6.3980e-02, 2.8295e-01, 3.1596e-01,\n",
              "           6.9310e-03, 1.7419e-01, 1.0413e-01, 3.7473e-02],\n",
              "          [5.6723e-02, 2.5372e-01, 5.1262e-02, 2.5939e-02, 3.2529e-02,\n",
              "           4.4399e-01, 3.8111e-02, 4.8978e-02, 4.8746e-02]],\n",
              "\n",
              "         [[8.2152e-01, 3.3011e-02, 1.6364e-02, 1.5987e-02, 1.7203e-02,\n",
              "           1.9167e-02, 1.0257e-02, 9.7175e-03, 5.6771e-02],\n",
              "          [8.3604e-01, 7.9285e-02, 8.2723e-03, 8.4464e-03, 1.6681e-02,\n",
              "           2.2631e-02, 5.8996e-03, 5.2292e-04, 2.2226e-02],\n",
              "          [1.8286e-01, 7.1798e-01, 5.3473e-03, 1.8950e-03, 8.6423e-02,\n",
              "           2.9469e-03, 1.4204e-03, 1.4633e-04, 9.8127e-04],\n",
              "          [5.6189e-01, 2.4123e-01, 1.2398e-01, 8.3744e-03, 1.2778e-02,\n",
              "           1.8440e-02, 4.8568e-03, 9.1708e-03, 1.9281e-02],\n",
              "          [4.4161e-01, 2.3962e-02, 1.1643e-01, 3.4217e-01, 1.5428e-02,\n",
              "           1.1177e-02, 8.5033e-03, 5.4947e-03, 3.5222e-02],\n",
              "          [3.0743e-01, 4.4670e-02, 1.7859e-02, 2.4121e-02, 4.2293e-01,\n",
              "           5.4751e-02, 2.3628e-02, 5.6580e-02, 4.8033e-02],\n",
              "          [3.0526e-01, 5.0409e-03, 4.4589e-03, 1.2055e-02, 2.1236e-02,\n",
              "           5.6458e-01, 3.3466e-02, 9.8123e-03, 4.4087e-02],\n",
              "          [1.6177e-01, 6.1357e-02, 3.9669e-03, 2.6125e-02, 2.1969e-02,\n",
              "           8.3253e-02, 5.2244e-01, 1.6054e-02, 1.0306e-01],\n",
              "          [5.8765e-01, 1.3943e-02, 9.5937e-03, 3.5211e-03, 1.1775e-02,\n",
              "           2.2862e-02, 5.6294e-02, 8.1233e-02, 2.1313e-01]],\n",
              "\n",
              "         [[7.0908e-01, 3.7430e-02, 7.4997e-02, 2.2416e-02, 3.5927e-02,\n",
              "           3.3033e-02, 2.4275e-02, 2.0478e-02, 4.2359e-02],\n",
              "          [4.2469e-01, 2.2082e-01, 1.9056e-01, 5.5793e-02, 3.0613e-02,\n",
              "           1.9451e-02, 1.2934e-02, 3.2016e-03, 4.1945e-02],\n",
              "          [1.9582e-02, 9.2983e-01, 3.5965e-02, 6.5383e-03, 4.2533e-03,\n",
              "           1.0174e-03, 1.1388e-03, 1.1806e-03, 4.9668e-04],\n",
              "          [1.6158e-02, 2.3300e-01, 6.8651e-01, 2.9759e-02, 1.4382e-02,\n",
              "           8.2314e-03, 4.5111e-03, 4.1597e-03, 3.2865e-03],\n",
              "          [2.2197e-01, 4.2141e-02, 5.0069e-01, 1.9305e-01, 2.5847e-02,\n",
              "           4.4895e-03, 5.3304e-03, 1.0969e-03, 5.3869e-03],\n",
              "          [3.2621e-03, 4.4909e-02, 6.4548e-02, 2.2236e-01, 5.5489e-01,\n",
              "           5.9651e-02, 2.3401e-02, 1.9891e-02, 7.0873e-03],\n",
              "          [3.2033e-02, 1.2706e-02, 7.8012e-02, 4.3954e-02, 3.0085e-01,\n",
              "           4.6213e-01, 5.9827e-02, 4.6581e-03, 5.8237e-03],\n",
              "          [5.0103e-03, 3.3204e-03, 1.2351e-02, 1.6158e-02, 4.0882e-02,\n",
              "           4.3146e-01, 4.5056e-01, 3.0181e-02, 1.0082e-02],\n",
              "          [1.5336e-01, 3.1064e-02, 4.5099e-02, 8.6804e-03, 1.6073e-02,\n",
              "           1.0269e-01, 4.7446e-01, 7.0197e-02, 9.8381e-02]],\n",
              "\n",
              "         [[6.0199e-01, 4.0604e-02, 5.5408e-02, 3.0554e-02, 6.0693e-02,\n",
              "           2.7108e-02, 5.7241e-02, 6.0596e-02, 6.5802e-02],\n",
              "          [8.1575e-02, 2.7500e-02, 1.4518e-01, 1.9357e-01, 1.7069e-01,\n",
              "           8.1504e-02, 8.0172e-02, 1.4484e-01, 7.4971e-02],\n",
              "          [2.0616e-01, 8.3964e-02, 2.9974e-02, 8.4204e-02, 2.3558e-01,\n",
              "           1.6308e-01, 8.8402e-02, 6.1770e-02, 4.6865e-02],\n",
              "          [2.1987e-01, 9.8814e-02, 2.7038e-02, 3.8241e-02, 2.2178e-01,\n",
              "           1.0542e-01, 9.2653e-02, 5.3793e-02, 1.4238e-01],\n",
              "          [2.5896e-01, 1.4376e-01, 1.3329e-01, 1.1134e-01, 1.2905e-02,\n",
              "           1.3183e-01, 9.4120e-02, 7.5735e-02, 3.8064e-02],\n",
              "          [1.3856e-01, 5.2469e-02, 1.0674e-01, 1.7639e-01, 1.2042e-01,\n",
              "           6.7613e-02, 9.3313e-02, 1.2208e-01, 1.2241e-01],\n",
              "          [2.5417e-01, 5.5814e-02, 6.9701e-02, 1.6426e-01, 2.4167e-01,\n",
              "           4.6110e-02, 2.7491e-02, 6.1081e-02, 7.9703e-02],\n",
              "          [1.1348e-01, 7.8630e-02, 7.1457e-02, 1.4258e-01, 2.8778e-01,\n",
              "           1.6801e-01, 6.5685e-02, 4.5334e-02, 2.7044e-02],\n",
              "          [3.3347e-02, 4.8151e-03, 5.6433e-03, 5.4861e-03, 1.2184e-02,\n",
              "           6.6017e-03, 9.1213e-03, 6.9266e-03, 9.1587e-01]],\n",
              "\n",
              "         [[2.9563e-01, 2.4051e-01, 2.1386e-02, 4.9419e-02, 1.2347e-02,\n",
              "           1.2071e-01, 6.9435e-02, 8.2754e-02, 1.0781e-01],\n",
              "          [4.4805e-02, 2.8413e-02, 6.7232e-01, 2.2299e-02, 4.2762e-02,\n",
              "           4.4575e-02, 4.4086e-02, 4.7564e-02, 5.3172e-02],\n",
              "          [1.6090e-01, 4.8595e-02, 3.8061e-02, 1.3907e-01, 1.1492e-01,\n",
              "           1.4771e-01, 9.3517e-02, 5.6471e-02, 2.0074e-01],\n",
              "          [5.7621e-02, 2.6266e-02, 5.2762e-02, 6.0266e-02, 1.1062e-01,\n",
              "           8.5448e-02, 1.3402e-01, 3.3786e-01, 1.3514e-01],\n",
              "          [3.6589e-01, 1.7816e-02, 4.4489e-02, 2.7126e-01, 2.8558e-02,\n",
              "           5.0357e-02, 3.8223e-02, 8.5897e-02, 9.7516e-02],\n",
              "          [9.2538e-02, 1.8096e-02, 3.7253e-02, 1.6520e-01, 1.4229e-01,\n",
              "           1.9271e-02, 1.6242e-01, 3.1082e-01, 5.2122e-02],\n",
              "          [1.1379e-01, 1.4452e-02, 5.8284e-02, 1.1715e-01, 5.4731e-02,\n",
              "           4.3899e-02, 3.5343e-01, 5.5578e-02, 1.8869e-01],\n",
              "          [3.0764e-02, 1.6606e-02, 2.9729e-02, 9.5208e-02, 2.6773e-01,\n",
              "           6.5932e-02, 1.6870e-01, 1.5712e-01, 1.6821e-01],\n",
              "          [4.2437e-01, 1.3765e-01, 2.9871e-02, 3.3762e-02, 2.3757e-02,\n",
              "           1.2577e-01, 7.2182e-02, 3.1160e-02, 1.2148e-01]],\n",
              "\n",
              "         [[8.7920e-01, 9.1187e-03, 1.9596e-02, 3.3784e-03, 2.5328e-02,\n",
              "           1.8874e-02, 1.5629e-02, 1.6640e-02, 1.2239e-02],\n",
              "          [2.4581e-02, 1.7128e-01, 6.6872e-02, 3.7138e-01, 1.5970e-01,\n",
              "           1.1853e-02, 8.9241e-02, 5.0604e-02, 5.4493e-02],\n",
              "          [6.5861e-02, 1.4889e-01, 1.2325e-01, 2.7922e-01, 1.3051e-01,\n",
              "           2.1435e-02, 8.3353e-02, 9.5518e-02, 5.1961e-02],\n",
              "          [2.4873e-01, 2.0785e-02, 1.3651e-01, 1.7604e-01, 1.8647e-01,\n",
              "           2.5211e-02, 8.7506e-02, 1.0507e-01, 1.3680e-02],\n",
              "          [1.4824e-01, 1.0729e-01, 3.1568e-02, 5.9480e-02, 3.6534e-01,\n",
              "           2.2240e-02, 2.8134e-02, 4.8842e-02, 1.8887e-01],\n",
              "          [1.1646e-01, 1.1811e-01, 8.6822e-02, 1.6389e-01, 1.6831e-01,\n",
              "           7.3388e-02, 6.8536e-02, 1.4217e-01, 6.2320e-02],\n",
              "          [6.8777e-02, 6.5671e-02, 7.0409e-02, 1.8509e-01, 8.9213e-02,\n",
              "           2.7587e-02, 3.2187e-01, 1.3290e-01, 3.8485e-02],\n",
              "          [8.6210e-02, 8.1422e-02, 1.3021e-01, 1.5938e-01, 1.4063e-01,\n",
              "           5.8415e-02, 9.7264e-02, 2.0313e-01, 4.3337e-02],\n",
              "          [9.1585e-02, 2.0724e-01, 7.5081e-02, 1.1904e-01, 1.0383e-01,\n",
              "           7.0020e-02, 5.4453e-02, 4.6648e-02, 2.3210e-01]],\n",
              "\n",
              "         [[5.9954e-01, 4.4908e-02, 4.5087e-02, 1.9860e-02, 1.3673e-02,\n",
              "           1.6654e-02, 5.6709e-03, 4.4400e-03, 2.5016e-01],\n",
              "          [1.8889e-01, 2.6766e-01, 9.5973e-02, 2.4487e-02, 2.3303e-02,\n",
              "           4.4454e-02, 2.9308e-02, 6.2168e-02, 2.6375e-01],\n",
              "          [3.3392e-01, 2.2005e-01, 4.2568e-02, 2.7443e-02, 7.2810e-02,\n",
              "           4.8126e-02, 3.7634e-02, 6.7740e-02, 1.4971e-01],\n",
              "          [4.4038e-02, 1.6780e-02, 5.7596e-02, 1.1296e-01, 2.2976e-01,\n",
              "           3.1900e-02, 2.5091e-01, 2.1089e-01, 4.5169e-02],\n",
              "          [4.4353e-02, 1.3597e-02, 5.5483e-02, 2.3189e-01, 3.1887e-01,\n",
              "           3.9377e-02, 1.3521e-01, 1.1664e-01, 4.4584e-02],\n",
              "          [2.7892e-01, 1.0653e-01, 7.9174e-02, 2.2847e-02, 3.9220e-02,\n",
              "           5.9136e-02, 3.6489e-02, 6.2048e-02, 3.1564e-01],\n",
              "          [1.3594e-01, 3.6130e-02, 6.1431e-02, 1.5758e-01, 1.0703e-01,\n",
              "           9.2035e-02, 7.4578e-02, 1.7868e-01, 1.5660e-01],\n",
              "          [8.8662e-02, 1.0765e-01, 6.0161e-02, 2.7576e-01, 1.0705e-01,\n",
              "           4.8876e-02, 1.7273e-01, 6.8954e-02, 7.0160e-02],\n",
              "          [4.4989e-01, 1.5025e-01, 6.2668e-02, 5.3023e-02, 4.6202e-02,\n",
              "           5.4231e-02, 5.3335e-02, 5.8769e-02, 7.1637e-02]],\n",
              "\n",
              "         [[7.7384e-01, 1.1406e-02, 3.1971e-02, 3.0701e-02, 4.0832e-02,\n",
              "           2.3698e-02, 2.2065e-02, 5.0540e-02, 1.4946e-02],\n",
              "          [7.8972e-03, 4.7813e-02, 8.0347e-02, 2.3995e-01, 8.7965e-02,\n",
              "           8.1822e-02, 2.2575e-01, 5.5857e-02, 1.7260e-01],\n",
              "          [3.4866e-02, 4.7720e-02, 2.2356e-02, 1.2937e-01, 2.8754e-01,\n",
              "           7.8719e-02, 2.3855e-01, 8.6927e-02, 7.3951e-02],\n",
              "          [3.4335e-02, 5.2051e-02, 4.0641e-02, 9.6055e-02, 1.4400e-01,\n",
              "           1.1061e-01, 2.3654e-01, 1.4010e-01, 1.4566e-01],\n",
              "          [1.3821e-02, 6.4368e-02, 5.6106e-02, 1.0930e-01, 6.4151e-02,\n",
              "           8.0122e-02, 4.5415e-01, 9.4401e-02, 6.3578e-02],\n",
              "          [1.2095e-03, 8.0661e-02, 7.1912e-02, 2.0850e-01, 9.6985e-02,\n",
              "           1.7044e-02, 2.4687e-01, 9.0665e-02, 1.8615e-01],\n",
              "          [4.6752e-03, 4.7635e-02, 3.0094e-02, 2.6880e-01, 1.5397e-01,\n",
              "           4.1363e-02, 1.1307e-01, 8.6272e-02, 2.5412e-01],\n",
              "          [2.4932e-03, 8.8545e-02, 5.8750e-02, 3.4446e-01, 1.4003e-01,\n",
              "           3.1957e-02, 1.5493e-01, 2.7534e-02, 1.5130e-01],\n",
              "          [1.5948e-01, 5.9663e-02, 4.3190e-02, 1.5696e-01, 1.1480e-01,\n",
              "           1.4083e-01, 1.3733e-01, 9.7247e-02, 9.0502e-02]],\n",
              "\n",
              "         [[1.8615e-01, 1.4587e-01, 1.0703e-01, 3.9178e-02, 4.8992e-02,\n",
              "           1.6472e-01, 1.4594e-01, 1.1948e-01, 4.2631e-02],\n",
              "          [2.1363e-01, 3.6996e-01, 1.2063e-01, 3.9151e-02, 7.2592e-02,\n",
              "           2.8660e-02, 3.6744e-02, 1.7314e-02, 1.0132e-01],\n",
              "          [3.6397e-01, 1.2540e-01, 2.2477e-01, 3.9790e-02, 3.8387e-02,\n",
              "           2.6574e-02, 6.3767e-02, 1.0601e-02, 1.0674e-01],\n",
              "          [1.2460e-01, 3.6063e-02, 5.1665e-02, 4.4238e-01, 6.9764e-02,\n",
              "           4.4836e-02, 7.3373e-02, 9.7336e-02, 5.9986e-02],\n",
              "          [5.0225e-01, 1.9105e-02, 4.0339e-02, 2.9268e-02, 2.2150e-01,\n",
              "           8.1980e-03, 3.5077e-02, 4.5668e-02, 9.8597e-02],\n",
              "          [3.9470e-01, 1.7157e-02, 3.4704e-02, 6.7359e-02, 1.0204e-01,\n",
              "           2.5499e-02, 7.1953e-02, 2.0084e-01, 8.5753e-02],\n",
              "          [2.7755e-01, 1.9579e-02, 2.8540e-02, 3.5959e-02, 5.9718e-02,\n",
              "           2.8569e-02, 3.3371e-01, 4.0931e-02, 1.7545e-01],\n",
              "          [2.1891e-01, 3.6615e-02, 1.8341e-02, 2.6911e-01, 1.7063e-01,\n",
              "           7.4698e-02, 4.0628e-02, 1.2863e-01, 4.2440e-02],\n",
              "          [6.6297e-01, 6.5470e-02, 2.3139e-02, 2.2395e-02, 6.2067e-02,\n",
              "           5.8720e-02, 4.7842e-02, 2.1334e-02, 3.6061e-02]],\n",
              "\n",
              "         [[8.4191e-01, 4.1972e-02, 2.0126e-02, 1.7801e-02, 2.4606e-02,\n",
              "           1.4249e-02, 5.9170e-03, 8.7238e-03, 2.4699e-02],\n",
              "          [5.1295e-04, 4.1081e-03, 9.2921e-01, 3.0527e-02, 2.0296e-02,\n",
              "           1.8437e-03, 9.4561e-03, 1.8380e-03, 2.2096e-03],\n",
              "          [4.8292e-03, 1.9475e-01, 6.2267e-03, 2.8659e-01, 4.4083e-01,\n",
              "           1.2973e-02, 2.0486e-02, 7.7810e-03, 2.5538e-02],\n",
              "          [2.0430e-01, 5.1978e-02, 3.3232e-02, 1.1458e-02, 5.4750e-01,\n",
              "           6.8555e-02, 2.5052e-02, 3.5975e-02, 2.1949e-02],\n",
              "          [4.3287e-01, 1.2106e-02, 3.0597e-02, 3.2058e-02, 3.8439e-02,\n",
              "           3.9554e-01, 1.0226e-02, 1.6021e-02, 3.2140e-02],\n",
              "          [4.1552e-04, 5.2430e-04, 2.9129e-04, 2.9742e-03, 3.4969e-03,\n",
              "           5.6458e-03, 5.1960e-01, 4.6008e-01, 6.9741e-03],\n",
              "          [1.1005e-01, 2.5912e-03, 5.0207e-03, 7.8843e-03, 1.6386e-02,\n",
              "           4.8236e-02, 4.8878e-02, 3.0952e-01, 4.5143e-01],\n",
              "          [2.4802e-02, 2.0407e-04, 1.0514e-03, 3.3815e-03, 2.1891e-03,\n",
              "           2.3331e-02, 3.9657e-02, 2.3305e-02, 8.8208e-01],\n",
              "          [2.6995e-01, 5.2019e-03, 1.0117e-03, 5.0123e-03, 3.2191e-02,\n",
              "           1.4750e-02, 2.7154e-02, 1.2907e-01, 5.1566e-01]],\n",
              "\n",
              "         [[9.1840e-01, 1.6590e-02, 6.4639e-03, 2.4493e-03, 5.7455e-03,\n",
              "           3.8466e-03, 4.6475e-03, 1.7540e-03, 4.0107e-02],\n",
              "          [3.3282e-01, 5.6073e-02, 6.4505e-02, 7.8784e-02, 1.7766e-01,\n",
              "           6.4419e-02, 4.7393e-02, 2.7551e-02, 1.5079e-01],\n",
              "          [7.6798e-02, 7.4957e-01, 9.7209e-03, 1.5931e-02, 4.8857e-02,\n",
              "           1.9835e-02, 2.8589e-02, 2.1685e-02, 2.9012e-02],\n",
              "          [1.2514e-01, 1.1281e-01, 3.4275e-02, 1.6059e-02, 5.2638e-01,\n",
              "           3.7302e-02, 2.0198e-02, 1.0582e-01, 2.2011e-02],\n",
              "          [1.9736e-01, 9.2112e-03, 1.1101e-01, 6.0801e-02, 1.2390e-01,\n",
              "           1.4752e-01, 1.0238e-01, 2.8455e-02, 2.1936e-01],\n",
              "          [1.2812e-01, 2.2207e-02, 1.1031e-02, 1.0697e-01, 2.4441e-01,\n",
              "           3.0528e-02, 1.8296e-01, 1.9250e-01, 8.1273e-02],\n",
              "          [9.7300e-02, 1.1384e-01, 3.0443e-02, 5.2826e-02, 2.0299e-01,\n",
              "           1.2028e-01, 1.3197e-01, 8.5237e-02, 1.6511e-01],\n",
              "          [1.4977e-01, 2.6494e-02, 7.8733e-03, 1.3059e-01, 1.0121e-01,\n",
              "           1.1056e-01, 2.8044e-01, 5.1625e-02, 1.4144e-01],\n",
              "          [6.6062e-01, 4.3212e-02, 3.9251e-03, 4.0578e-03, 3.3678e-02,\n",
              "           2.1325e-02, 3.0709e-02, 2.5314e-02, 1.7716e-01]]]])"
            ]
          },
          "metadata": {},
          "execution_count": 54
        }
      ]
    },
    {
      "cell_type": "code",
      "source": [],
      "metadata": {
        "id": "SYEPkMRF3jfE"
      },
      "execution_count": null,
      "outputs": []
    }
  ]
}