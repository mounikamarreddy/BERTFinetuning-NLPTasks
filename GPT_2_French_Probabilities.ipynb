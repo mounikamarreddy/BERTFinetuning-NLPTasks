{
  "nbformat": 4,
  "nbformat_minor": 0,
  "metadata": {
    "colab": {
      "provenance": [],
      "authorship_tag": "ABX9TyMtXfiOWsV9LsfxjDUlQ8eS",
      "include_colab_link": true
    },
    "kernelspec": {
      "name": "python3",
      "display_name": "Python 3"
    },
    "language_info": {
      "name": "python"
    }
  },
  "cells": [
    {
      "cell_type": "markdown",
      "metadata": {
        "id": "view-in-github",
        "colab_type": "text"
      },
      "source": [
        "<a href=\"https://colab.research.google.com/github/mounikamarreddy/BERTFinetuning-NLPTasks/blob/main/GPT_2_French_Probabilities.ipynb\" target=\"_parent\"><img src=\"https://colab.research.google.com/assets/colab-badge.svg\" alt=\"Open In Colab\"/></a>"
      ]
    },
    {
      "cell_type": "code",
      "source": [
        "!pip install transformers"
      ],
      "metadata": {
        "colab": {
          "base_uri": "https://localhost:8080/"
        },
        "id": "_vyw8ncV5rK3",
        "outputId": "b33b71e5-9a7b-4504-85fd-288d81e189b8"
      },
      "execution_count": 1,
      "outputs": [
        {
          "output_type": "stream",
          "name": "stdout",
          "text": [
            "Looking in indexes: https://pypi.org/simple, https://us-python.pkg.dev/colab-wheels/public/simple/\n",
            "Collecting transformers\n",
            "  Downloading transformers-4.22.1-py3-none-any.whl (4.9 MB)\n",
            "\u001b[K     |████████████████████████████████| 4.9 MB 5.2 MB/s \n",
            "\u001b[?25hCollecting huggingface-hub<1.0,>=0.9.0\n",
            "  Downloading huggingface_hub-0.9.1-py3-none-any.whl (120 kB)\n",
            "\u001b[K     |████████████████████████████████| 120 kB 45.7 MB/s \n",
            "\u001b[?25hRequirement already satisfied: filelock in /usr/local/lib/python3.7/dist-packages (from transformers) (3.8.0)\n",
            "Requirement already satisfied: tqdm>=4.27 in /usr/local/lib/python3.7/dist-packages (from transformers) (4.64.1)\n",
            "Requirement already satisfied: pyyaml>=5.1 in /usr/local/lib/python3.7/dist-packages (from transformers) (6.0)\n",
            "Collecting tokenizers!=0.11.3,<0.13,>=0.11.1\n",
            "  Downloading tokenizers-0.12.1-cp37-cp37m-manylinux_2_12_x86_64.manylinux2010_x86_64.whl (6.6 MB)\n",
            "\u001b[K     |████████████████████████████████| 6.6 MB 38.4 MB/s \n",
            "\u001b[?25hRequirement already satisfied: numpy>=1.17 in /usr/local/lib/python3.7/dist-packages (from transformers) (1.21.6)\n",
            "Requirement already satisfied: importlib-metadata in /usr/local/lib/python3.7/dist-packages (from transformers) (4.12.0)\n",
            "Requirement already satisfied: requests in /usr/local/lib/python3.7/dist-packages (from transformers) (2.23.0)\n",
            "Requirement already satisfied: packaging>=20.0 in /usr/local/lib/python3.7/dist-packages (from transformers) (21.3)\n",
            "Requirement already satisfied: regex!=2019.12.17 in /usr/local/lib/python3.7/dist-packages (from transformers) (2022.6.2)\n",
            "Requirement already satisfied: typing-extensions>=3.7.4.3 in /usr/local/lib/python3.7/dist-packages (from huggingface-hub<1.0,>=0.9.0->transformers) (4.1.1)\n",
            "Requirement already satisfied: pyparsing!=3.0.5,>=2.0.2 in /usr/local/lib/python3.7/dist-packages (from packaging>=20.0->transformers) (3.0.9)\n",
            "Requirement already satisfied: zipp>=0.5 in /usr/local/lib/python3.7/dist-packages (from importlib-metadata->transformers) (3.8.1)\n",
            "Requirement already satisfied: urllib3!=1.25.0,!=1.25.1,<1.26,>=1.21.1 in /usr/local/lib/python3.7/dist-packages (from requests->transformers) (1.24.3)\n",
            "Requirement already satisfied: chardet<4,>=3.0.2 in /usr/local/lib/python3.7/dist-packages (from requests->transformers) (3.0.4)\n",
            "Requirement already satisfied: certifi>=2017.4.17 in /usr/local/lib/python3.7/dist-packages (from requests->transformers) (2022.6.15)\n",
            "Requirement already satisfied: idna<3,>=2.5 in /usr/local/lib/python3.7/dist-packages (from requests->transformers) (2.10)\n",
            "Installing collected packages: tokenizers, huggingface-hub, transformers\n",
            "Successfully installed huggingface-hub-0.9.1 tokenizers-0.12.1 transformers-4.22.1\n"
          ]
        }
      ]
    },
    {
      "cell_type": "code",
      "source": [
        "!wget https://raw.githubusercontent.com/icml2019paper2428/Towards-A-Deep-and-Unified-Understanding-of-Deep-Neural-Models-in-NLP/master/Interpreter.py"
      ],
      "metadata": {
        "colab": {
          "base_uri": "https://localhost:8080/"
        },
        "id": "VyZ5LkQvFJHZ",
        "outputId": "b825d4e1-1d1f-4103-b1a8-0c9213ade4d9"
      },
      "execution_count": 2,
      "outputs": [
        {
          "output_type": "stream",
          "name": "stdout",
          "text": [
            "--2022-09-24 22:45:39--  https://raw.githubusercontent.com/icml2019paper2428/Towards-A-Deep-and-Unified-Understanding-of-Deep-Neural-Models-in-NLP/master/Interpreter.py\n",
            "Resolving raw.githubusercontent.com (raw.githubusercontent.com)... 185.199.108.133, 185.199.109.133, 185.199.111.133, ...\n",
            "Connecting to raw.githubusercontent.com (raw.githubusercontent.com)|185.199.108.133|:443... connected.\n",
            "HTTP request sent, awaiting response... 200 OK\n",
            "Length: 6692 (6.5K) [text/plain]\n",
            "Saving to: ‘Interpreter.py’\n",
            "\n",
            "\rInterpreter.py        0%[                    ]       0  --.-KB/s               \rInterpreter.py      100%[===================>]   6.54K  --.-KB/s    in 0s      \n",
            "\n",
            "2022-09-24 22:45:39 (46.1 MB/s) - ‘Interpreter.py’ saved [6692/6692]\n",
            "\n"
          ]
        }
      ]
    },
    {
      "cell_type": "code",
      "source": [
        "!ls"
      ],
      "metadata": {
        "colab": {
          "base_uri": "https://localhost:8080/"
        },
        "id": "2eK-yqfMFQmT",
        "outputId": "719c6f49-a319-4ab9-deb3-24cb020dc34a"
      },
      "execution_count": 3,
      "outputs": [
        {
          "output_type": "stream",
          "name": "stdout",
          "text": [
            "Interpreter.py\tsample_data\n"
          ]
        }
      ]
    },
    {
      "cell_type": "code",
      "execution_count": 115,
      "metadata": {
        "id": "vi7zXOi5mB47"
      },
      "outputs": [],
      "source": [
        "# import torch\n",
        "# from transformers import GPT2Tokenizer, GPT2LMHeadModel\n",
        "# from Interpreter import Interpreter \n",
        " \n",
        "# def Phi(x):\n",
        "#     global model\n",
        "#     result = model(inputs_embeds=x)[0]\n",
        "#     return result # return the logit of last word\n",
        " \n",
        "# model_path = \"dbddv01/gpt2-french-small\"\n",
        "# model = GPT2LMHeadModel.from_pretrained(model_path, output_attentions=True)\n",
        "# tokenizer = GPT2Tokenizer.from_pretrained(model_path)\n",
        " \n",
        "# input_embedding_weight_std = (\n",
        "#     model.get_input_embeddings().weight.view(1,-1)\n",
        "#     .std().item()\n",
        "# )\n",
        " \n",
        "# text = \"Les deux garcons partent en courant de l'école pour arriver les premiers au match de foot\"\n",
        "# inputs = tokenizer.encode_plus(text, return_tensors='pt', \n",
        "#                                add_special_tokens=True, \n",
        "#                                add_space_before_punct_symbol=True)\n",
        "# input_ids = inputs['input_ids']\n",
        " \n",
        "# with torch.no_grad():\n",
        "#     x = model.get_input_embeddings()(input_ids).squeeze()\n",
        "\n",
        " \n",
        "# interpreter = Interpreter(x=x, Phi=Phi, \n",
        "#                           scale=10*input_embedding_weight_std,\n",
        "#                           words=text.split(' ')).to(model.device)\n",
        " \n",
        "# # This will take sometime.\n",
        "# interpreter.optimize(iteration=1000, lr=0.01, show_progress=True)\n",
        "# interpreter.get_sigma()\n",
        "# interpreter.visualize()"
      ]
    },
    {
      "cell_type": "code",
      "source": [
        "import torch\n",
        "from transformers import GPT2Tokenizer, GPT2LMHeadModel\n",
        "import pandas as pd\n",
        "import numpy as np\n",
        "import torch"
      ],
      "metadata": {
        "id": "rGRKI3ngzULl"
      },
      "execution_count": 84,
      "outputs": []
    },
    {
      "cell_type": "code",
      "source": [
        "from google.colab import files\n",
        "uploaded = files.upload()"
      ],
      "metadata": {
        "colab": {
          "base_uri": "https://localhost:8080/",
          "height": 91
        },
        "id": "UKD1cf1fzsz_",
        "outputId": "2dbe589e-4282-4255-a690-4d81f345bc42"
      },
      "execution_count": 79,
      "outputs": [
        {
          "output_type": "display_data",
          "data": {
            "text/plain": [
              "<IPython.core.display.HTML object>"
            ],
            "text/html": [
              "\n",
              "     <input type=\"file\" id=\"files-1e8ee604-7eed-4a0f-b07b-07bd3d7f8140\" name=\"files[]\" multiple disabled\n",
              "        style=\"border:none\" />\n",
              "     <output id=\"result-1e8ee604-7eed-4a0f-b07b-07bd3d7f8140\">\n",
              "      Upload widget is only available when the cell has been executed in the\n",
              "      current browser session. Please rerun this cell to enable.\n",
              "      </output>\n",
              "      <script>// Copyright 2017 Google LLC\n",
              "//\n",
              "// Licensed under the Apache License, Version 2.0 (the \"License\");\n",
              "// you may not use this file except in compliance with the License.\n",
              "// You may obtain a copy of the License at\n",
              "//\n",
              "//      http://www.apache.org/licenses/LICENSE-2.0\n",
              "//\n",
              "// Unless required by applicable law or agreed to in writing, software\n",
              "// distributed under the License is distributed on an \"AS IS\" BASIS,\n",
              "// WITHOUT WARRANTIES OR CONDITIONS OF ANY KIND, either express or implied.\n",
              "// See the License for the specific language governing permissions and\n",
              "// limitations under the License.\n",
              "\n",
              "/**\n",
              " * @fileoverview Helpers for google.colab Python module.\n",
              " */\n",
              "(function(scope) {\n",
              "function span(text, styleAttributes = {}) {\n",
              "  const element = document.createElement('span');\n",
              "  element.textContent = text;\n",
              "  for (const key of Object.keys(styleAttributes)) {\n",
              "    element.style[key] = styleAttributes[key];\n",
              "  }\n",
              "  return element;\n",
              "}\n",
              "\n",
              "// Max number of bytes which will be uploaded at a time.\n",
              "const MAX_PAYLOAD_SIZE = 100 * 1024;\n",
              "\n",
              "function _uploadFiles(inputId, outputId) {\n",
              "  const steps = uploadFilesStep(inputId, outputId);\n",
              "  const outputElement = document.getElementById(outputId);\n",
              "  // Cache steps on the outputElement to make it available for the next call\n",
              "  // to uploadFilesContinue from Python.\n",
              "  outputElement.steps = steps;\n",
              "\n",
              "  return _uploadFilesContinue(outputId);\n",
              "}\n",
              "\n",
              "// This is roughly an async generator (not supported in the browser yet),\n",
              "// where there are multiple asynchronous steps and the Python side is going\n",
              "// to poll for completion of each step.\n",
              "// This uses a Promise to block the python side on completion of each step,\n",
              "// then passes the result of the previous step as the input to the next step.\n",
              "function _uploadFilesContinue(outputId) {\n",
              "  const outputElement = document.getElementById(outputId);\n",
              "  const steps = outputElement.steps;\n",
              "\n",
              "  const next = steps.next(outputElement.lastPromiseValue);\n",
              "  return Promise.resolve(next.value.promise).then((value) => {\n",
              "    // Cache the last promise value to make it available to the next\n",
              "    // step of the generator.\n",
              "    outputElement.lastPromiseValue = value;\n",
              "    return next.value.response;\n",
              "  });\n",
              "}\n",
              "\n",
              "/**\n",
              " * Generator function which is called between each async step of the upload\n",
              " * process.\n",
              " * @param {string} inputId Element ID of the input file picker element.\n",
              " * @param {string} outputId Element ID of the output display.\n",
              " * @return {!Iterable<!Object>} Iterable of next steps.\n",
              " */\n",
              "function* uploadFilesStep(inputId, outputId) {\n",
              "  const inputElement = document.getElementById(inputId);\n",
              "  inputElement.disabled = false;\n",
              "\n",
              "  const outputElement = document.getElementById(outputId);\n",
              "  outputElement.innerHTML = '';\n",
              "\n",
              "  const pickedPromise = new Promise((resolve) => {\n",
              "    inputElement.addEventListener('change', (e) => {\n",
              "      resolve(e.target.files);\n",
              "    });\n",
              "  });\n",
              "\n",
              "  const cancel = document.createElement('button');\n",
              "  inputElement.parentElement.appendChild(cancel);\n",
              "  cancel.textContent = 'Cancel upload';\n",
              "  const cancelPromise = new Promise((resolve) => {\n",
              "    cancel.onclick = () => {\n",
              "      resolve(null);\n",
              "    };\n",
              "  });\n",
              "\n",
              "  // Wait for the user to pick the files.\n",
              "  const files = yield {\n",
              "    promise: Promise.race([pickedPromise, cancelPromise]),\n",
              "    response: {\n",
              "      action: 'starting',\n",
              "    }\n",
              "  };\n",
              "\n",
              "  cancel.remove();\n",
              "\n",
              "  // Disable the input element since further picks are not allowed.\n",
              "  inputElement.disabled = true;\n",
              "\n",
              "  if (!files) {\n",
              "    return {\n",
              "      response: {\n",
              "        action: 'complete',\n",
              "      }\n",
              "    };\n",
              "  }\n",
              "\n",
              "  for (const file of files) {\n",
              "    const li = document.createElement('li');\n",
              "    li.append(span(file.name, {fontWeight: 'bold'}));\n",
              "    li.append(span(\n",
              "        `(${file.type || 'n/a'}) - ${file.size} bytes, ` +\n",
              "        `last modified: ${\n",
              "            file.lastModifiedDate ? file.lastModifiedDate.toLocaleDateString() :\n",
              "                                    'n/a'} - `));\n",
              "    const percent = span('0% done');\n",
              "    li.appendChild(percent);\n",
              "\n",
              "    outputElement.appendChild(li);\n",
              "\n",
              "    const fileDataPromise = new Promise((resolve) => {\n",
              "      const reader = new FileReader();\n",
              "      reader.onload = (e) => {\n",
              "        resolve(e.target.result);\n",
              "      };\n",
              "      reader.readAsArrayBuffer(file);\n",
              "    });\n",
              "    // Wait for the data to be ready.\n",
              "    let fileData = yield {\n",
              "      promise: fileDataPromise,\n",
              "      response: {\n",
              "        action: 'continue',\n",
              "      }\n",
              "    };\n",
              "\n",
              "    // Use a chunked sending to avoid message size limits. See b/62115660.\n",
              "    let position = 0;\n",
              "    do {\n",
              "      const length = Math.min(fileData.byteLength - position, MAX_PAYLOAD_SIZE);\n",
              "      const chunk = new Uint8Array(fileData, position, length);\n",
              "      position += length;\n",
              "\n",
              "      const base64 = btoa(String.fromCharCode.apply(null, chunk));\n",
              "      yield {\n",
              "        response: {\n",
              "          action: 'append',\n",
              "          file: file.name,\n",
              "          data: base64,\n",
              "        },\n",
              "      };\n",
              "\n",
              "      let percentDone = fileData.byteLength === 0 ?\n",
              "          100 :\n",
              "          Math.round((position / fileData.byteLength) * 100);\n",
              "      percent.textContent = `${percentDone}% done`;\n",
              "\n",
              "    } while (position < fileData.byteLength);\n",
              "  }\n",
              "\n",
              "  // All done.\n",
              "  yield {\n",
              "    response: {\n",
              "      action: 'complete',\n",
              "    }\n",
              "  };\n",
              "}\n",
              "\n",
              "scope.google = scope.google || {};\n",
              "scope.google.colab = scope.google.colab || {};\n",
              "scope.google.colab._files = {\n",
              "  _uploadFiles,\n",
              "  _uploadFilesContinue,\n",
              "};\n",
              "})(self);\n",
              "</script> "
            ]
          },
          "metadata": {}
        },
        {
          "output_type": "stream",
          "name": "stdout",
          "text": [
            "Saving Ordre_Stims_comprehension.xlsx to Ordre_Stims_comprehension.xlsx\n"
          ]
        }
      ]
    },
    {
      "cell_type": "code",
      "source": [
        "data = pd.read_excel(\"Ordre_Stims_comprehension.xlsx\")\n",
        "print(data.head())"
      ],
      "metadata": {
        "colab": {
          "base_uri": "https://localhost:8080/"
        },
        "id": "hIFJvx_qz8oP",
        "outputId": "f4e6f96b-cbde-447c-eb31-19e3de040801"
      },
      "execution_count": 82,
      "outputs": [
        {
          "output_type": "stream",
          "name": "stdout",
          "text": [
            "                                              Phrase  ordre stim  nb_mots  \\\n",
            "0  lundi mardi mercredi jeudi vendredi samedi dim...           1        7   \n",
            "1  Les deux garcons partent en courant de l'école...           2       16   \n",
            "2  janvier fevrier mars avril mai juin juillet ao...           3        9   \n",
            "3  cinq heures six heures sept heures huit heures...           4       12   \n",
            "4  La maman de Nicolas lui explique que trois vit...           5       16   \n",
            "\n",
            "   temps début     durée  \n",
            "0            0  4.014512  \n",
            "1           14  4.697188  \n",
            "2           28  4.745420  \n",
            "3           42  3.903061  \n",
            "4           56  5.004036  \n"
          ]
        }
      ]
    },
    {
      "cell_type": "code",
      "source": [
        "model_path = \"dbddv01/gpt2-french-small\"\n",
        "model_path = \"antoiloui/belgpt2\"\n",
        "model = GPT2LMHeadModel.from_pretrained(model_path, output_attentions=True)\n",
        "tokenizer = GPT2Tokenizer.from_pretrained(model_path)\n",
        " \n",
        "input_embedding_weight_std = (\n",
        "    model.get_input_embeddings().weight.view(1,-1)\n",
        "    .std().item()\n",
        ")"
      ],
      "metadata": {
        "id": "ge20hUyXzhdx"
      },
      "execution_count": 83,
      "outputs": []
    },
    {
      "cell_type": "code",
      "source": [
        "def generate_probs(text, input_ids,bb):\n",
        "  probs = []\n",
        "  actual_tokens = text.split(' ')\n",
        "  ati, bti, a2b = 0, 0, 0\n",
        "  while ati < len(actual_tokens):\n",
        "    atok = actual_tokens[ati]\n",
        "    toki = 0\n",
        "    temp = []\n",
        "    while toki < len(atok):\n",
        "      btok = tokenizer.decode(input_ids[0][a2b])\n",
        "      temp.append(bb[a2b][input_ids[0][a2b]])\n",
        "      toki += len(btok)\n",
        "      if btok.startswith(' '):\n",
        "        toki = toki-1\n",
        "      a2b+=1\n",
        "      if (toki == len(atok)):\n",
        "        break\n",
        "    ati+=1\n",
        "    #print(len(temp))\n",
        "    if len(temp)>1:\n",
        "      temp = np.sum(np.array(temp))\n",
        "      temp = [temp]\n",
        "    probs.append(temp[0])\n",
        "  return probs"
      ],
      "metadata": {
        "id": "ZVZbbFkGuCr8"
      },
      "execution_count": 103,
      "outputs": []
    },
    {
      "cell_type": "code",
      "source": [
        "final_prob = []\n",
        "#text = \"Les deux garcons partent en courant de l'école pour arriver les premiers au match de foot\"\n",
        "for text in data.Phrase:\n",
        "  inputs = tokenizer.encode_plus(text, return_tensors='pt', \n",
        "                                add_special_tokens=True, \n",
        "                                add_space_before_punct_symbol=True)\n",
        "  input_ids = inputs['input_ids']\n",
        "  \n",
        "  with torch.no_grad():\n",
        "      x = model.get_input_embeddings()(input_ids).squeeze()\n",
        "\n",
        "  result = model(inputs_embeds=x)[0]\n",
        "  result = torch.nn.functional.softmax(result)\n",
        "  final = result.detach().numpy()\n",
        "  probs = generate_probs(text, input_ids, final)\n",
        "  final_prob.append(probs)"
      ],
      "metadata": {
        "colab": {
          "base_uri": "https://localhost:8080/"
        },
        "id": "_vew6hEg0bRr",
        "outputId": "3ec480bd-3831-40ce-d3a7-c4bf8317e3dd"
      },
      "execution_count": 105,
      "outputs": [
        {
          "output_type": "stream",
          "name": "stderr",
          "text": [
            "Keyword arguments {'add_space_before_punct_symbol': True} not recognized.\n",
            "/usr/local/lib/python3.7/dist-packages/ipykernel_launcher.py:13: UserWarning: Implicit dimension choice for softmax has been deprecated. Change the call to include dim=X as an argument.\n",
            "  del sys.path[0]\n",
            "Keyword arguments {'add_space_before_punct_symbol': True} not recognized.\n",
            "Keyword arguments {'add_space_before_punct_symbol': True} not recognized.\n",
            "Keyword arguments {'add_space_before_punct_symbol': True} not recognized.\n",
            "Keyword arguments {'add_space_before_punct_symbol': True} not recognized.\n",
            "Keyword arguments {'add_space_before_punct_symbol': True} not recognized.\n",
            "Keyword arguments {'add_space_before_punct_symbol': True} not recognized.\n",
            "Keyword arguments {'add_space_before_punct_symbol': True} not recognized.\n",
            "Keyword arguments {'add_space_before_punct_symbol': True} not recognized.\n",
            "Keyword arguments {'add_space_before_punct_symbol': True} not recognized.\n",
            "Keyword arguments {'add_space_before_punct_symbol': True} not recognized.\n",
            "Keyword arguments {'add_space_before_punct_symbol': True} not recognized.\n",
            "Keyword arguments {'add_space_before_punct_symbol': True} not recognized.\n",
            "Keyword arguments {'add_space_before_punct_symbol': True} not recognized.\n",
            "Keyword arguments {'add_space_before_punct_symbol': True} not recognized.\n",
            "Keyword arguments {'add_space_before_punct_symbol': True} not recognized.\n",
            "Keyword arguments {'add_space_before_punct_symbol': True} not recognized.\n",
            "Keyword arguments {'add_space_before_punct_symbol': True} not recognized.\n",
            "Keyword arguments {'add_space_before_punct_symbol': True} not recognized.\n",
            "Keyword arguments {'add_space_before_punct_symbol': True} not recognized.\n",
            "Keyword arguments {'add_space_before_punct_symbol': True} not recognized.\n",
            "Keyword arguments {'add_space_before_punct_symbol': True} not recognized.\n",
            "Keyword arguments {'add_space_before_punct_symbol': True} not recognized.\n",
            "Keyword arguments {'add_space_before_punct_symbol': True} not recognized.\n",
            "Keyword arguments {'add_space_before_punct_symbol': True} not recognized.\n",
            "Keyword arguments {'add_space_before_punct_symbol': True} not recognized.\n"
          ]
        }
      ]
    },
    {
      "cell_type": "code",
      "source": [
        "df = pd.DataFrame(final_prob)\n",
        "df.shape"
      ],
      "metadata": {
        "colab": {
          "base_uri": "https://localhost:8080/"
        },
        "id": "T_WW_Gn3zE0v",
        "outputId": "a5bbbda8-42d2-49f1-9950-4089a9cebfb2"
      },
      "execution_count": 109,
      "outputs": [
        {
          "output_type": "execute_result",
          "data": {
            "text/plain": [
              "(26, 19)"
            ]
          },
          "metadata": {},
          "execution_count": 109
        }
      ]
    },
    {
      "cell_type": "code",
      "source": [
        "finaldf = pd.concat([data,df], axis=1)\n",
        "finaldf.shape"
      ],
      "metadata": {
        "colab": {
          "base_uri": "https://localhost:8080/"
        },
        "id": "K1Y2SDCB3F1Y",
        "outputId": "0ee37fab-836c-491d-ffd3-9c3ab997b34e"
      },
      "execution_count": 112,
      "outputs": [
        {
          "output_type": "execute_result",
          "data": {
            "text/plain": [
              "(26, 24)"
            ]
          },
          "metadata": {},
          "execution_count": 112
        }
      ]
    },
    {
      "cell_type": "code",
      "source": [
        "finaldf.to_excel(\"Ordre_Stims_comprehension_probabilities.xlsx\", index=None)"
      ],
      "metadata": {
        "id": "JKB2rs3Q3aEK"
      },
      "execution_count": 113,
      "outputs": []
    },
    {
      "cell_type": "code",
      "source": [
        "files.download('Ordre_Stims_comprehension_probabilities.xlsx')"
      ],
      "metadata": {
        "colab": {
          "base_uri": "https://localhost:8080/",
          "height": 17
        },
        "id": "9Lz_ut5r319i",
        "outputId": "b74ef9b5-2192-4446-95a0-a4b22a5740f7"
      },
      "execution_count": 114,
      "outputs": [
        {
          "output_type": "display_data",
          "data": {
            "text/plain": [
              "<IPython.core.display.Javascript object>"
            ],
            "application/javascript": [
              "\n",
              "    async function download(id, filename, size) {\n",
              "      if (!google.colab.kernel.accessAllowed) {\n",
              "        return;\n",
              "      }\n",
              "      const div = document.createElement('div');\n",
              "      const label = document.createElement('label');\n",
              "      label.textContent = `Downloading \"${filename}\": `;\n",
              "      div.appendChild(label);\n",
              "      const progress = document.createElement('progress');\n",
              "      progress.max = size;\n",
              "      div.appendChild(progress);\n",
              "      document.body.appendChild(div);\n",
              "\n",
              "      const buffers = [];\n",
              "      let downloaded = 0;\n",
              "\n",
              "      const channel = await google.colab.kernel.comms.open(id);\n",
              "      // Send a message to notify the kernel that we're ready.\n",
              "      channel.send({})\n",
              "\n",
              "      for await (const message of channel.messages) {\n",
              "        // Send a message to notify the kernel that we're ready.\n",
              "        channel.send({})\n",
              "        if (message.buffers) {\n",
              "          for (const buffer of message.buffers) {\n",
              "            buffers.push(buffer);\n",
              "            downloaded += buffer.byteLength;\n",
              "            progress.value = downloaded;\n",
              "          }\n",
              "        }\n",
              "      }\n",
              "      const blob = new Blob(buffers, {type: 'application/binary'});\n",
              "      const a = document.createElement('a');\n",
              "      a.href = window.URL.createObjectURL(blob);\n",
              "      a.download = filename;\n",
              "      div.appendChild(a);\n",
              "      a.click();\n",
              "      div.remove();\n",
              "    }\n",
              "  "
            ]
          },
          "metadata": {}
        },
        {
          "output_type": "display_data",
          "data": {
            "text/plain": [
              "<IPython.core.display.Javascript object>"
            ],
            "application/javascript": [
              "download(\"download_e467b874-7943-426e-99da-f90cb11a580d\", \"Ordre_Stims_comprehension_probabilities.xlsx\", 12109)"
            ]
          },
          "metadata": {}
        }
      ]
    },
    {
      "cell_type": "code",
      "source": [],
      "metadata": {
        "id": "WFBvdeQR4HgZ"
      },
      "execution_count": null,
      "outputs": []
    }
  ]
}